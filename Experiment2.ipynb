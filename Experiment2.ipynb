{
 "cells": [
  {
   "cell_type": "code",
   "execution_count": 1,
   "id": "041bfdca",
   "metadata": {},
   "outputs": [
    {
     "name": "stdout",
     "output_type": "stream",
     "text": [
      "Requirement already satisfied: nltk in c:\\users\\2020s\\anaconda3\\lib\\site-packages (3.7)Note: you may need to restart the kernel to use updated packages.\n",
      "\n",
      "Requirement already satisfied: tqdm in c:\\users\\2020s\\anaconda3\\lib\\site-packages (from nltk) (4.64.1)\n",
      "Requirement already satisfied: regex>=2021.8.3 in c:\\users\\2020s\\anaconda3\\lib\\site-packages (from nltk) (2022.7.9)\n",
      "Requirement already satisfied: joblib in c:\\users\\2020s\\anaconda3\\lib\\site-packages (from nltk) (1.1.0)\n",
      "Requirement already satisfied: click in c:\\users\\2020s\\anaconda3\\lib\\site-packages (from nltk) (8.0.4)\n",
      "Requirement already satisfied: colorama in c:\\users\\2020s\\anaconda3\\lib\\site-packages (from click->nltk) (0.4.5)\n"
     ]
    }
   ],
   "source": [
    "pip install nltk"
   ]
  },
  {
   "cell_type": "code",
   "execution_count": 34,
   "id": "3e3507ae",
   "metadata": {},
   "outputs": [
    {
     "name": "stdout",
     "output_type": "stream",
     "text": [
      "['I', 'saw', 'my', 'life', 'branching', 'out', 'before', 'me', 'like', 'the', 'green', 'fig', 'tree', 'in', 'the', 'story', '.', 'From', 'the', 'tip', 'of', 'every', 'branch', ',', 'like', 'a', 'fat', 'purple', 'fig', ',', 'a', 'wonderful', 'future', 'beckoned', 'and', 'winked', '.', 'One', 'fig', 'was', 'a', 'husband', 'and', 'a', 'happy', 'home', 'and', 'children', ',', 'and', 'another', 'fig', 'was', 'a', 'famous', 'poet', 'and', 'another', 'fig', 'was', 'a', 'brilliant', 'professor', ',', 'and', 'another', 'fig', 'was', 'Ee', 'Gee', ',', 'the', 'amazing', 'editor', ',', 'and', 'another', 'fig', 'was', 'Europe', 'and', 'Africa', 'and', 'South', 'America', ',', 'and', 'another', 'fig', 'was', 'Constantin', 'and', 'Socrates', 'and', 'Attila', 'and', 'a', 'pack', 'of', 'other', 'lovers', 'with', 'queer', 'names', 'and', 'offbeat', 'professions', ',', 'and', 'another', 'fig', 'was', 'an', 'Olympic', 'lady', 'crew', 'champion', ',', 'and', 'beyond', 'and', 'above', 'these', 'figs', 'were', 'many', 'more', 'figs', 'I', 'could', \"n't\", 'quite', 'make', 'out', '.', 'I', 'saw', 'myself', 'sitting', 'in', 'the', 'crotch', 'of', 'this', 'fig', 'tree', ',', 'starving', 'to', 'death', ',', 'just', 'because', 'I', 'could', \"n't\", 'make', 'up', 'my', 'mind', 'which', 'of', 'the', 'figs', 'I', 'would', 'choose', '.', 'I', 'wanted', 'each', 'and', 'every', 'one', 'of', 'them', ',', 'but', 'choosing', 'one', 'meant', 'losing', 'all', 'the', 'rest', ',', 'and', ',', 'as', 'I', 'sat', 'there', ',', 'unable', 'to', 'decide', ',', 'the', 'figs', 'began', 'to', 'wrinkle', 'and', 'go', 'black', ',', 'and', ',', 'one', 'by', 'one', ',', 'they', 'plopped', 'to', 'the', 'ground', 'at', 'my', 'feet', '.']\n"
     ]
    }
   ],
   "source": [
    "import nltk\n",
    "from nltk.tokenize import word_tokenize\n",
    "\n",
    "#nltk.download('punkt')  # word_tokenize used punkt for tokenization. punkt is already trained ML model for tokenization\n",
    "\n",
    "text = '''I saw my life branching out before me like the green fig tree in the story.\n",
    "From the tip of every branch, like a fat purple fig, a wonderful future beckoned and winked. \n",
    "One fig was a husband and a happy home and children, and another fig was a famous poet and another fig was a brilliant professor, \n",
    "and another fig was Ee Gee, the amazing editor, and another fig was Europe and Africa and South America,\n",
    "and another fig was Constantin and Socrates and Attila and a pack of other lovers with queer names and offbeat professions,\n",
    "and another fig was an Olympic lady crew champion, and beyond and above these figs were many more figs I couldn't quite make out.\n",
    "I saw myself sitting in the crotch of this fig tree, starving to death, just because I couldn't make up my mind which of the figs \n",
    "I would choose. I wanted each and every one of them, but choosing one meant losing all the rest, and, as I sat there, unable to decide,\n",
    "the figs began to wrinkle and go black, and, one by one, they plopped to the ground at my feet.'''\n",
    "\n",
    "tokens = word_tokenize(text)\n",
    "print(tokens)"
   ]
  },
  {
   "cell_type": "code",
   "execution_count": 41,
   "id": "e2bac11b",
   "metadata": {},
   "outputs": [
    {
     "name": "stdout",
     "output_type": "stream",
     "text": [
      "['saw', 'life', 'branching', 'like', 'green', 'fig', 'tree', 'story', 'tip', 'every', 'branch', 'like', 'fat', 'purple', 'fig', 'wonderful', 'future', 'beckoned', 'winked', 'One', 'fig', 'husband', 'happy', 'home', 'children', 'another', 'fig', 'famous', 'poet', 'another', 'fig', 'brilliant', 'professor', 'another', 'fig', 'Ee', 'Gee', 'amazing', 'editor', 'another', 'fig', 'Europe', 'Africa', 'South', 'America', 'another', 'fig', 'Constantin', 'Socrates', 'Attila', 'pack', 'lovers', 'queer', 'names', 'offbeat', 'professions', 'another', 'fig', 'Olympic', 'lady', 'crew', 'champion', 'beyond', 'figs', 'many', 'figs', 'could', \"n't\", 'quite', 'make', 'saw', 'sitting', 'crotch', 'fig', 'tree', 'starving', 'death', 'could', \"n't\", 'make', 'mind', 'figs', 'would', 'choose', 'wanted', 'every', 'one', 'choosing', 'one', 'meant', 'losing', 'rest', 'sat', 'unable', 'decide', 'figs', 'began', 'wrinkle', 'go', 'black', 'one', 'one', 'plopped', 'ground', 'feet']\n"
     ]
    }
   ],
   "source": [
    "#Filtration - Filtration involves removing unwanted elements from the text, such as punctuation and stopwords.\n",
    "\n",
    "from nltk.corpus import stopwords\n",
    "import string\n",
    "\n",
    "#nltk.download('stopwords')\n",
    "\n",
    "stop_words = set(stopwords.words('english'))\n",
    "punctuation = set(string.punctuation)\n",
    "\n",
    "filtered_tokens = [word for word in tokens if word.lower() not in stop_words and word.lower() not in punctuation]\n",
    "print(filtered_tokens)"
   ]
  },
  {
   "cell_type": "code",
   "execution_count": 40,
   "id": "79c4465e",
   "metadata": {},
   "outputs": [
    {
     "name": "stdout",
     "output_type": "stream",
     "text": [
      "The given paragraph contains Latin Script characters.\n"
     ]
    }
   ],
   "source": [
    "#Script validation is the process of ensuring that the text contains characters from a specific script or set of scripts\n",
    "#(e.g., Latin script, Cyrillic script, etc.)\n",
    "\n",
    "import re\n",
    "\n",
    "def is_latin(text):\n",
    "    return bool(re.match(r'^[a-zA-Z\\s.,\\'\\']*$', text))\n",
    "\n",
    "if is_latin(text):\n",
    "    print(\"The given paragraph contains Latin Script characters.\")\n",
    "else:\n",
    "    print(\"The given paragraph contains characters from other scripts.\")"
   ]
  }
 ],
 "metadata": {
  "kernelspec": {
   "display_name": "Python 3 (ipykernel)",
   "language": "python",
   "name": "python3"
  },
  "language_info": {
   "codemirror_mode": {
    "name": "ipython",
    "version": 3
   },
   "file_extension": ".py",
   "mimetype": "text/x-python",
   "name": "python",
   "nbconvert_exporter": "python",
   "pygments_lexer": "ipython3",
   "version": "3.9.13"
  }
 },
 "nbformat": 4,
 "nbformat_minor": 5
}
