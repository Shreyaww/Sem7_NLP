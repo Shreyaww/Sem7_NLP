{
 "cells": [
  {
   "cell_type": "code",
   "execution_count": 11,
   "id": "df2c664b",
   "metadata": {},
   "outputs": [
    {
     "name": "stdout",
     "output_type": "stream",
     "text": [
      "running: run\n",
      "flies: fli\n",
      "happily: happili\n",
      "better: better\n",
      "ponies: poni\n",
      "easily: easili\n",
      "trouble: troubl\n",
      "quickly: quickli\n",
      "jumping: jump\n",
      "beautiful: beauti\n",
      "unhappiness: unhappi\n",
      "happiness: happi\n",
      "coding: code\n"
     ]
    }
   ],
   "source": [
    "import nltk\n",
    "from nltk.stem import PorterStemmer\n",
    "\n",
    "# Create a Porter Stemmer object\n",
    "stemmer = PorterStemmer()\n",
    "\n",
    "words = [\"running\", \"flies\", \"happily\", \"better\", \"ponies\", \"easily\", \"trouble\", \n",
    "    \"quickly\", \"jumping\", \"beautiful\", \"unhappiness\", \"happiness\", \"coding\"]\n",
    "\n",
    "# Apply stemming to each word\n",
    "stemmed_words = [stemmer.stem(word) for word in words]\n",
    "\n",
    "\n",
    "#zip(words, stemmed_words) function in Python is used to combine two or more iterables (like lists or tuples) element-wise\n",
    "for word, stemmed_word in zip(words, stemmed_words):\n",
    "    print(f\"{word}: {stemmed_word}\")\n"
   ]
  },
  {
   "cell_type": "code",
   "execution_count": null,
   "id": "e21cbe02",
   "metadata": {},
   "outputs": [],
   "source": []
  }
 ],
 "metadata": {
  "kernelspec": {
   "display_name": "Python 3 (ipykernel)",
   "language": "python",
   "name": "python3"
  },
  "language_info": {
   "codemirror_mode": {
    "name": "ipython",
    "version": 3
   },
   "file_extension": ".py",
   "mimetype": "text/x-python",
   "name": "python",
   "nbconvert_exporter": "python",
   "pygments_lexer": "ipython3",
   "version": "3.9.13"
  }
 },
 "nbformat": 4,
 "nbformat_minor": 5
}
