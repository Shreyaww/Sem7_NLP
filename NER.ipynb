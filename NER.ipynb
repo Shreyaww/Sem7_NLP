{
  "nbformat": 4,
  "nbformat_minor": 0,
  "metadata": {
    "colab": {
      "provenance": []
    },
    "kernelspec": {
      "name": "python3",
      "display_name": "Python 3"
    },
    "language_info": {
      "name": "python"
    }
  },
  "cells": [
    {
      "cell_type": "code",
      "execution_count": 42,
      "metadata": {
        "id": "LAdSrCN31-7s"
      },
      "outputs": [],
      "source": [
        "import spacy\n",
        "#spaCy can identify and classify named entities in text, such as names of people, organizations, locations, dates, etc\n",
        "#spacy is a popular natural language processing library that allows you to perform various tasks such as tokenization, part-of-speech tagging,\n",
        "#named entity recognition, and more."
      ]
    },
    {
      "cell_type": "markdown",
      "source": [
        ".load(\"en_core_web_sm\"): This part of the code loads a specific spaCy model. In this case, you're loading the \"en_core_web_sm\" model, which is the small English model that spaCy provides. This model is a relatively compact version of the English language model and is suitable for many common NLP tasks while being computationally efficient."
      ],
      "metadata": {
        "id": "9KDBRKRi3a4B"
      }
    },
    {
      "cell_type": "code",
      "source": [
        "nlp = spacy.load(\"en_core_web_sm\")"
      ],
      "metadata": {
        "id": "PR3oJ8eo2B3r"
      },
      "execution_count": 5,
      "outputs": []
    },
    {
      "cell_type": "code",
      "source": [
        "nlp.pipe_names"
      ],
      "metadata": {
        "colab": {
          "base_uri": "https://localhost:8080/"
        },
        "id": "dhNRHOvK2n8q",
        "outputId": "36ddcdc1-ab97-483d-b9e3-4e024cdcaa75"
      },
      "execution_count": 6,
      "outputs": [
        {
          "output_type": "execute_result",
          "data": {
            "text/plain": [
              "['tok2vec', 'tagger', 'parser', 'attribute_ruler', 'lemmatizer', 'ner']"
            ]
          },
          "metadata": {},
          "execution_count": 6
        }
      ]
    },
    {
      "cell_type": "code",
      "source": [
        "doc = nlp('''We are pleased to offer you the position of Software Engineer.\n",
        "Enclosing offer letter with the date of joining as 04 July 24.\n",
        "Please share the below mentioned document:\n",
        "Signed & Scan copy of Livlong Inc offer letter\n",
        "In the meantime, please feel free to contact me via email or phone , should you have any questions.\n",
        "We are all looking forward to having you on our team.\n",
        "Thanks and Regards,\n",
        "Amrita Kaushik''')\n",
        "\n",
        "for token in doc.ents:\n",
        "    print(token.text, \"|\", token.label_, \"|\", spacy.explain(token.label_))"
      ],
      "metadata": {
        "colab": {
          "base_uri": "https://localhost:8080/"
        },
        "id": "dtAaJgn12x0h",
        "outputId": "55509b52-fed1-45da-a52c-47414ba4e490"
      },
      "execution_count": 41,
      "outputs": [
        {
          "output_type": "stream",
          "name": "stdout",
          "text": [
            "Software Engineer | ORG | Companies, agencies, institutions, etc.\n",
            "04 July 24 | DATE | Absolute or relative dates or periods\n",
            "Livlong Inc | ORG | Companies, agencies, institutions, etc.\n",
            "Regards | ORG | Companies, agencies, institutions, etc.\n",
            "Amrita Kaushik | PERSON | People, including fictional\n"
          ]
        }
      ]
    },
    {
      "cell_type": "code",
      "source": [
        "from spacy import displacy\n",
        "\n",
        "displacy.render(doc, style = \"ent\", jupyter=True)"
      ],
      "metadata": {
        "colab": {
          "base_uri": "https://localhost:8080/",
          "height": 262
        },
        "id": "FmiTeW0-3-8h",
        "outputId": "351d3ccc-6625-4302-d5cb-97a9a53bc801"
      },
      "execution_count": 40,
      "outputs": [
        {
          "output_type": "display_data",
          "data": {
            "text/plain": [
              "<IPython.core.display.HTML object>"
            ],
            "text/html": [
              "<span class=\"tex2jax_ignore\"><div class=\"entities\" style=\"line-height: 2.5; direction: ltr\">We are pleased to offer you the position of \n",
              "<mark class=\"entity\" style=\"background: #7aecec; padding: 0.45em 0.6em; margin: 0 0.25em; line-height: 1; border-radius: 0.35em;\">\n",
              "    Software Engineer\n",
              "    <span style=\"font-size: 0.8em; font-weight: bold; line-height: 1; border-radius: 0.35em; vertical-align: middle; margin-left: 0.5rem\">ORG</span>\n",
              "</mark>\n",
              ". Enclosing offer letter with the date of joining as \n",
              "<mark class=\"entity\" style=\"background: #bfe1d9; padding: 0.45em 0.6em; margin: 0 0.25em; line-height: 1; border-radius: 0.35em;\">\n",
              "    04 July 24\n",
              "    <span style=\"font-size: 0.8em; font-weight: bold; line-height: 1; border-radius: 0.35em; vertical-align: middle; margin-left: 0.5rem\">DATE</span>\n",
              "</mark>\n",
              ".<br>Please share the below mentioned document:<br>Signed &amp; Scan copy of \n",
              "<mark class=\"entity\" style=\"background: #7aecec; padding: 0.45em 0.6em; margin: 0 0.25em; line-height: 1; border-radius: 0.35em;\">\n",
              "    Livlong Inc\n",
              "    <span style=\"font-size: 0.8em; font-weight: bold; line-height: 1; border-radius: 0.35em; vertical-align: middle; margin-left: 0.5rem\">ORG</span>\n",
              "</mark>\n",
              " offer letter<br>In the meantime, please feel free to contact me via email or phone , should you have any questions.<br>We are all looking forward to having you on our team.<br>Thanks and \n",
              "<mark class=\"entity\" style=\"background: #7aecec; padding: 0.45em 0.6em; margin: 0 0.25em; line-height: 1; border-radius: 0.35em;\">\n",
              "    Regards\n",
              "    <span style=\"font-size: 0.8em; font-weight: bold; line-height: 1; border-radius: 0.35em; vertical-align: middle; margin-left: 0.5rem\">ORG</span>\n",
              "</mark>\n",
              ",<br>\n",
              "<mark class=\"entity\" style=\"background: #aa9cfc; padding: 0.45em 0.6em; margin: 0 0.25em; line-height: 1; border-radius: 0.35em;\">\n",
              "    Amrita Kaushik\n",
              "    <span style=\"font-size: 0.8em; font-weight: bold; line-height: 1; border-radius: 0.35em; vertical-align: middle; margin-left: 0.5rem\">PERSON</span>\n",
              "</mark>\n",
              "</div></span>"
            ]
          },
          "metadata": {}
        }
      ]
    }
  ]
}